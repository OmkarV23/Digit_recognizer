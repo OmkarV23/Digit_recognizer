{
  "nbformat": 4,
  "nbformat_minor": 0,
  "metadata": {
    "colab": {
      "name": "MNIST.ipynb",
      "provenance": [],
      "collapsed_sections": [],
      "mount_file_id": "1f9jpYGFkAw_I4HoI9El3DH-xEoEVSre1",
      "authorship_tag": "ABX9TyMHHVlItgkjzlW6xNn8RpNd",
      "include_colab_link": true
    },
    "kernelspec": {
      "name": "python3",
      "display_name": "Python 3"
    }
  },
  "cells": [
    {
      "cell_type": "markdown",
      "metadata": {
        "id": "view-in-github",
        "colab_type": "text"
      },
      "source": [
        "<a href=\"https://colab.research.google.com/github/OmkarV23/Digit_recognizer/blob/main/digit_recog.ipynb\" target=\"_parent\"><img src=\"https://colab.research.google.com/assets/colab-badge.svg\" alt=\"Open In Colab\"/></a>"
      ]
    },
    {
      "cell_type": "code",
      "metadata": {
        "id": "OanHYN4qDWSI"
      },
      "source": [
        "import numpy as np \r\n",
        "import pandas as pd \r\n",
        "from tensorflow import keras\r\n",
        "from tensorflow.keras.callbacks import EarlyStopping,ReduceLROnPlateau\r\n",
        "from sklearn.model_selection import train_test_split"
      ],
      "execution_count": 2,
      "outputs": []
    },
    {
      "cell_type": "code",
      "metadata": {
        "id": "fQqJK1opFeJC"
      },
      "source": [
        "train = pd.read_csv('/content/drive/MyDrive/digit-recognizer/train.csv')\n",
        "test = pd.read_csv('/content/drive/MyDrive/digit-recognizer/test.csv')"
      ],
      "execution_count": 44,
      "outputs": []
    },
    {
      "cell_type": "code",
      "metadata": {
        "id": "AiG04khOzYvD"
      },
      "source": [
        "d_train = train.copy()\n",
        "d_test = test.copy()"
      ],
      "execution_count": 45,
      "outputs": []
    },
    {
      "cell_type": "code",
      "metadata": {
        "id": "gvmiah0KpOaf"
      },
      "source": [
        "seed = 2718 \n",
        "np.random.seed(seed)"
      ],
      "execution_count": 46,
      "outputs": []
    },
    {
      "cell_type": "code",
      "metadata": {
        "id": "cm7sfgz-pRt4"
      },
      "source": [
        "X = train.iloc[:,1:]\n",
        "Y = train.iloc[:,0]\n",
        "\n",
        "x_train , x_test , y_train , y_test = train_test_split(X, Y , test_size=0.2, random_state=seed)\n",
        "x_train , x_valid, y_train , y_valid = train_test_split(x_train, y_train , test_size=0.2, random_state=seed)"
      ],
      "execution_count": 47,
      "outputs": []
    },
    {
      "cell_type": "code",
      "metadata": {
        "id": "3uSGc7mmpjon"
      },
      "source": [
        "x_train = x_train.values.reshape(-1, 28, 28, 1)\n",
        "x_test = x_test.values.reshape(-1, 28, 28, 1)\n",
        "x_valid = x_valid.values.reshape(-1, 28, 28, 1)\n",
        "d_test=d_test.values.reshape(-1,28,28,1)"
      ],
      "execution_count": 48,
      "outputs": []
    },
    {
      "cell_type": "code",
      "metadata": {
        "id": "PzmaFvEBqeg4"
      },
      "source": [
        "from keras.preprocessing.image import ImageDataGenerator\n",
        "from keras.utils import to_categorical\n",
        "\n",
        "datagen = ImageDataGenerator(rotation_range=50, zoom_range=0.1)\n",
        "x_train = x_train.astype(\"float32\")/255\n",
        "x_test = x_test.astype(\"float32\")/255\n",
        "x_valid = x_valid.astype(\"float32\")/255\n",
        "d_test = d_test.astype(\"float32\")/255\n",
        "y_train = to_categorical(y_train, num_classes=10)\n",
        "y_test = to_categorical(y_test, num_classes=10)\n",
        "y_valid = to_categorical(y_valid, num_classes=10)\n",
        "datagen.fit(x_train)"
      ],
      "execution_count": 50,
      "outputs": []
    },
    {
      "cell_type": "code",
      "metadata": {
        "colab": {
          "base_uri": "https://localhost:8080/"
        },
        "id": "QRdRJeto2RRo",
        "outputId": "a3f53e20-e9ac-43b9-a1c5-52072f555768"
      },
      "source": [
        "print(x_train.shape)\n",
        "print(x_test.shape)\n",
        "print(x_valid.shape)\n",
        "print(y_train.shape)\n",
        "print(y_test.shape)\n",
        "print(y_valid.shape)"
      ],
      "execution_count": 51,
      "outputs": [
        {
          "output_type": "stream",
          "text": [
            "(26880, 28, 28, 1)\n",
            "(8400, 28, 28, 1)\n",
            "(6720, 28, 28, 1)\n",
            "(26880, 10)\n",
            "(8400, 10)\n",
            "(6720, 10)\n"
          ],
          "name": "stdout"
        }
      ]
    },
    {
      "cell_type": "code",
      "metadata": {
        "colab": {
          "base_uri": "https://localhost:8080/"
        },
        "id": "uhG6aX7Rsr0z",
        "outputId": "eb5fcfff-a6e8-473a-eee0-5800c4947669"
      },
      "source": [
        "from keras.layers import Conv2D, Flatten\n",
        "from keras.layers import BatchNormalization, MaxPooling2D, Dropout, Dense \n",
        "\n",
        "model = keras.Sequential()\n",
        "\n",
        "model.add(Conv2D(filters=32, kernel_size=(3, 3), activation='relu', strides=1, padding='same', data_format='channels_last',\n",
        "                 input_shape=(28,28,1)))\n",
        "model.add(BatchNormalization())\n",
        "model.add(Conv2D(filters=32, kernel_size=(3, 3), activation='relu', strides=1, padding='same', data_format='channels_last'))\n",
        "model.add(BatchNormalization())\n",
        "model.add(MaxPooling2D(pool_size=(2, 2), strides=2, padding='valid' ))\n",
        "model.add(Dropout(0.25))\n",
        "\n",
        "model.add(Conv2D(filters=64, kernel_size=(3, 3), activation='relu', strides=1, padding='same', data_format='channels_last'))\n",
        "model.add(BatchNormalization())\n",
        "model.add(Conv2D(filters=64, kernel_size=(3, 3), strides=1, padding='same', activation='relu', data_format='channels_last'))\n",
        "model.add(BatchNormalization())\n",
        "model.add(MaxPooling2D(pool_size=(2, 2), padding='valid', strides=2))\n",
        "model.add(Dropout(0.25))\n",
        "\n",
        "model.add(Flatten())\n",
        "model.add(Dense(512, activation='relu'))\n",
        "model.add(BatchNormalization())\n",
        "model.add(Dropout(0.25))\n",
        "model.add(Dense(1024, activation='relu'))\n",
        "model.add(BatchNormalization())\n",
        "model.add(Dropout(0.5))\n",
        "model.add(Dense(10, activation='softmax'))\n",
        "\n",
        "model.summary()"
      ],
      "execution_count": 65,
      "outputs": [
        {
          "output_type": "stream",
          "text": [
            "Model: \"sequential_4\"\n",
            "_________________________________________________________________\n",
            "Layer (type)                 Output Shape              Param #   \n",
            "=================================================================\n",
            "conv2d_16 (Conv2D)           (None, 28, 28, 32)        320       \n",
            "_________________________________________________________________\n",
            "batch_normalization_22 (Batc (None, 28, 28, 32)        128       \n",
            "_________________________________________________________________\n",
            "conv2d_17 (Conv2D)           (None, 28, 28, 32)        9248      \n",
            "_________________________________________________________________\n",
            "batch_normalization_23 (Batc (None, 28, 28, 32)        128       \n",
            "_________________________________________________________________\n",
            "max_pooling2d_8 (MaxPooling2 (None, 14, 14, 32)        0         \n",
            "_________________________________________________________________\n",
            "dropout_14 (Dropout)         (None, 14, 14, 32)        0         \n",
            "_________________________________________________________________\n",
            "conv2d_18 (Conv2D)           (None, 14, 14, 64)        18496     \n",
            "_________________________________________________________________\n",
            "batch_normalization_24 (Batc (None, 14, 14, 64)        256       \n",
            "_________________________________________________________________\n",
            "conv2d_19 (Conv2D)           (None, 14, 14, 64)        36928     \n",
            "_________________________________________________________________\n",
            "batch_normalization_25 (Batc (None, 14, 14, 64)        256       \n",
            "_________________________________________________________________\n",
            "max_pooling2d_9 (MaxPooling2 (None, 7, 7, 64)          0         \n",
            "_________________________________________________________________\n",
            "dropout_15 (Dropout)         (None, 7, 7, 64)          0         \n",
            "_________________________________________________________________\n",
            "flatten_3 (Flatten)          (None, 3136)              0         \n",
            "_________________________________________________________________\n",
            "dense_9 (Dense)              (None, 512)               1606144   \n",
            "_________________________________________________________________\n",
            "batch_normalization_26 (Batc (None, 512)               2048      \n",
            "_________________________________________________________________\n",
            "dropout_16 (Dropout)         (None, 512)               0         \n",
            "_________________________________________________________________\n",
            "dense_10 (Dense)             (None, 1024)              525312    \n",
            "_________________________________________________________________\n",
            "batch_normalization_27 (Batc (None, 1024)              4096      \n",
            "_________________________________________________________________\n",
            "dropout_17 (Dropout)         (None, 1024)              0         \n",
            "_________________________________________________________________\n",
            "dense_11 (Dense)             (None, 10)                10250     \n",
            "=================================================================\n",
            "Total params: 2,213,610\n",
            "Trainable params: 2,210,154\n",
            "Non-trainable params: 3,456\n",
            "_________________________________________________________________\n"
          ],
          "name": "stdout"
        }
      ]
    },
    {
      "cell_type": "code",
      "metadata": {
        "id": "w7FP6j3p4Uk7"
      },
      "source": [
        "from keras.callbacks import LearningRateScheduler\n",
        "from keras.callbacks import EarlyStopping\n",
        "red_lr = LearningRateScheduler(lambda x: 1e-3 * 0.9 ** x)\n",
        "ear_stop = EarlyStopping(monitor='val_loss', min_delta=0.01, patience=20, restore_best_weights=True)"
      ],
      "execution_count": 66,
      "outputs": []
    },
    {
      "cell_type": "code",
      "metadata": {
        "id": "ktxksfm1wAxA"
      },
      "source": [
        "batch_size = 64\n",
        "epochs = 10\n",
        "model.compile(optimizer='adam', loss='categorical_crossentropy', metrics = ['accuracy'])"
      ],
      "execution_count": 67,
      "outputs": []
    },
    {
      "cell_type": "code",
      "metadata": {
        "colab": {
          "base_uri": "https://localhost:8080/"
        },
        "id": "H36eTavlyg8W",
        "outputId": "c5f93f3f-d89d-4532-c6f0-9fca7cff60e5"
      },
      "source": [
        "H = model.fit(datagen.flow(x_train, y_train, batch_size=batch_size), validation_data=(x_valid, y_valid), epochs=epochs, verbose=1, callbacks=[red_lr, ear_stop])"
      ],
      "execution_count": 68,
      "outputs": [
        {
          "output_type": "stream",
          "text": [
            "Epoch 1/10\n",
            "420/420 [==============================] - 153s 362ms/step - loss: 0.9158 - accuracy: 0.7428 - val_loss: 2.3895 - val_accuracy: 0.3522\n",
            "Epoch 2/10\n",
            "420/420 [==============================] - 150s 357ms/step - loss: 0.1885 - accuracy: 0.9423 - val_loss: 0.0976 - val_accuracy: 0.9737\n",
            "Epoch 3/10\n",
            "420/420 [==============================] - 150s 356ms/step - loss: 0.1446 - accuracy: 0.9581 - val_loss: 0.0721 - val_accuracy: 0.9799\n",
            "Epoch 4/10\n",
            "420/420 [==============================] - 150s 358ms/step - loss: 0.1140 - accuracy: 0.9647 - val_loss: 0.0556 - val_accuracy: 0.9838\n",
            "Epoch 5/10\n",
            "420/420 [==============================] - 151s 360ms/step - loss: 0.1064 - accuracy: 0.9674 - val_loss: 0.0499 - val_accuracy: 0.9848\n",
            "Epoch 6/10\n",
            "420/420 [==============================] - 150s 358ms/step - loss: 0.0952 - accuracy: 0.9706 - val_loss: 0.0387 - val_accuracy: 0.9888\n",
            "Epoch 7/10\n",
            "420/420 [==============================] - 149s 355ms/step - loss: 0.0733 - accuracy: 0.9777 - val_loss: 0.0434 - val_accuracy: 0.9884\n",
            "Epoch 8/10\n",
            "420/420 [==============================] - 148s 352ms/step - loss: 0.0711 - accuracy: 0.9777 - val_loss: 0.0382 - val_accuracy: 0.9903\n",
            "Epoch 9/10\n",
            "420/420 [==============================] - 148s 353ms/step - loss: 0.0680 - accuracy: 0.9780 - val_loss: 0.0368 - val_accuracy: 0.9882\n",
            "Epoch 10/10\n",
            "420/420 [==============================] - 150s 356ms/step - loss: 0.0660 - accuracy: 0.9794 - val_loss: 0.0376 - val_accuracy: 0.9891\n"
          ],
          "name": "stdout"
        }
      ]
    },
    {
      "cell_type": "code",
      "metadata": {
        "colab": {
          "base_uri": "https://localhost:8080/",
          "height": 350
        },
        "id": "hxdpJU3R0xZw",
        "outputId": "98d9819d-d0a6-4412-858e-f134d46f4589"
      },
      "source": [
        "import matplotlib.pyplot as plt\n",
        "\n",
        "plt.figure(figsize=(13, 5))\n",
        "plt.plot(H.history['loss'])\n",
        "plt.plot(H.history['val_loss'])\n",
        "plt.title(\"Model Loss\")\n",
        "plt.xlabel('Epochs')\n",
        "plt.ylabel('Loss')\n",
        "plt.legend(['Train', 'Test'])\n",
        "plt.grid()\n",
        "plt.show()"
      ],
      "execution_count": 69,
      "outputs": [
        {
          "output_type": "display_data",
          "data": {
            "image/png": "[encoded data removed]",
            "text/plain": [
              "<Figure size 936x360 with 1 Axes>"
            ]
          },
          "metadata": {
            "tags": [],
            "needs_background": "light"
          }
        }
      ]
    },
    {
      "cell_type": "code",
      "metadata": {
        "colab": {
          "base_uri": "https://localhost:8080/",
          "height": 350
        },
        "id": "Di1dPeYhGNc7",
        "outputId": "e207f4ae-e6c4-46d6-e01f-8776f92f6904"
      },
      "source": [
        "plt.figure(figsize=(13, 5))\n",
        "plt.plot(H.history['accuracy'])\n",
        "plt.plot(H.history['val_accuracy'])\n",
        "plt.title('Model Accuracy')\n",
        "plt.xlabel('Epochs')\n",
        "plt.ylabel('Accuracy')\n",
        "plt.legend(['Train','Test'])\n",
        "plt.grid()\n",
        "plt.show()"
      ],
      "execution_count": 70,
      "outputs": [
        {
          "output_type": "display_data",
          "data": {
            "image/png": "[encoded data removed]",
            "text/plain": [
              "<Figure size 936x360 with 1 Axes>"
            ]
          },
          "metadata": {
            "tags": [],
            "needs_background": "light"
          }
        }
      ]
    },
    {
      "cell_type": "code",
      "metadata": {
        "id": "VRqSJ4y5GQt6"
      },
      "source": [
        "pred_digits_test = np.argmax(model.predict(d_test),axis=1)\n",
        "image_id_test = []\n",
        "\n",
        "for i in range (len(pred_digits_test)):\n",
        "    image_id_test.append(i+1)\n",
        "    \n",
        "d = {'ImageId':image_id_test,'Label':pred_digits_test}\n",
        "submission = pd.DataFrame(d)\n",
        "\n",
        "submission.to_csv('submission.csv',index=False)"
      ],
      "execution_count": 73,
      "outputs": []
    },
    {
      "cell_type": "code",
      "metadata": {
        "colab": {
          "base_uri": "https://localhost:8080/",
          "height": 282
        },
        "id": "zg6QvB4MGkmx",
        "outputId": "8fbd5cc8-1e45-4af5-ba53-fbe26af8679e"
      },
      "source": [
        "plt.imshow(d_test[27999].reshape(28,28))"
      ],
      "execution_count": 82,
      "outputs": [
        {
          "output_type": "execute_result",
          "data": {
            "text/plain": [
              "<matplotlib.image.AxesImage at 0x7f8f82bfb3c8>"
            ]
          },
          "metadata": {
            "tags": []
          },
          "execution_count": 82
        },
        {
          "output_type": "display_data",
          "data": {
            "image/png": "[encoded data removed]",
            "text/plain": [
              "<Figure size 432x288 with 1 Axes>"
            ]
          },
          "metadata": {
            "tags": [],
            "needs_background": "light"
          }
        }
      ]
    },
    {
      "cell_type": "code",
      "metadata": {
        "id": "tXQaowN7IQXW"
      },
      "source": [
        ""
      ],
      "execution_count": null,
      "outputs": []
    }
  ]
}